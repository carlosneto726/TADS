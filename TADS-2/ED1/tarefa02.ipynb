{
  "nbformat": 4,
  "nbformat_minor": 0,
  "metadata": {
    "colab": {
      "provenance": []
    },
    "kernelspec": {
      "name": "python3",
      "display_name": "Python 3"
    },
    "language_info": {
      "name": "python"
    }
  },
  "cells": [
    {
      "cell_type": "code",
      "metadata": {
        "id": "Fn5DlHaIUHAy",
        "colab": {
          "base_uri": "https://localhost:8080/"
        },
        "outputId": "6b8f5d6c-ea8f-4963-9ed5-73189bd740bc"
      },
      "source": [
        "def media(n):\n",
        "  if n == 0:\n",
        "    return 1\n",
        "  else:\n",
        "      return (n + (( 4 + ( n ** 2)) ** 0.5 )) / 2\n",
        "\n",
        "n = int(input(\"Digite um número para uma média metálica: \"))\n",
        "print(f\"O valor da média metálica de {n} é {media(n)}\")\n"
      ],
      "execution_count": null,
      "outputs": [
        {
          "output_type": "stream",
          "name": "stdout",
          "text": [
            "Digite um número para uma média metálica: 10\n",
            "O valor da média metálica de 10 é 10.099019513592784\n"
          ]
        }
      ]
    }
  ]
}