{
 "cells": [
  {
   "cell_type": "code",
   "execution_count": 92,
   "id": "d54522d8",
   "metadata": {},
   "outputs": [
    {
     "data": {
      "text/html": [
       "<style>.container { width:100% !important; }</style>"
      ],
      "text/plain": [
       "<IPython.core.display.HTML object>"
      ]
     },
     "metadata": {},
     "output_type": "display_data"
    }
   ],
   "source": [
    "from IPython.display import display, HTML\n",
    "display(HTML(\"<style>.container { width:100% !important; }</style>\"))"
   ]
  },
  {
   "cell_type": "code",
   "execution_count": 93,
   "id": "8b003e19",
   "metadata": {},
   "outputs": [],
   "source": [
    "class Vertice:\n",
    "    \n",
    "    def __init__(self, valor, direcionado=True):\n",
    "        self.__valor = valor\n",
    "        self.__direcionado = direcionado\n",
    "        self.__arestas = set()\n",
    "    \n",
    "    def getValor(self):\n",
    "        return self.__valor\n",
    "    \n",
    "    def setValor(self, valor):\n",
    "        self.__valor = valor\n",
    "        \n",
    "    def getArestas(self):\n",
    "        return self.__arestas\n",
    "    \n",
    "    def adicionarAresta(self, aresta):\n",
    "        self.__arestas.add(aresta)\n",
    "        \n",
    "    def getArestasSaida(self):\n",
    "        if self.__direcionado == False:\n",
    "            return self.__arestas\n",
    "        arestasDeSaida = []\n",
    "        for aresta in self.__arestas:\n",
    "            if aresta.getvOrigem() == self:\n",
    "                arestasDeSaida.append(aresta)\n",
    "        return arestasDeSaida\n",
    "    \n",
    "    def getArestasEntrada(self):\n",
    "        if self.__direcionado == False:\n",
    "            return self.__arestas\n",
    "        arestasSaida = []\n",
    "        for aresta in self.__arestas:\n",
    "            if aresta.getvDestino() == self:\n",
    "                arestasSaida.append(aresta)\n",
    "        return arestasSaida\n",
    "    \n",
    "    def getGrau(self):\n",
    "        return len(self.getArestasSaida())+ len(self.getArestasEntrada())\n",
    "    \n",
    "    def getAdjacentes(self, v):\n",
    "        listaVerticesAdjacentes = []\n",
    "        for arestas_de_saida in v.getArestasSaida():\n",
    "            listaVerticesAdjacentes.append(arestas_de_saida.getvDestino())\n",
    "        return listaVerticesAdjacentes\n",
    "\n",
    "    def getMenorValor(self):\n",
    "        menor = self.getValor()[0]\n",
    "        for a in self.getValor():\n",
    "            if a < menor:\n",
    "                menor = a\n"
   ]
  },
  {
   "cell_type": "code",
   "execution_count": 94,
   "id": "5c3677e7",
   "metadata": {},
   "outputs": [],
   "source": [
    "class Aresta:\n",
    "    def __init__(self, vOrigem, vDestino, peso, direcionada=True):\n",
    "        self.__vOrigem = vOrigem\n",
    "        self.__vDestino = vDestino\n",
    "        self.__peso = peso\n",
    "        self.__direcionada = direcionada\n",
    "        self.__vOrigem.adicionarAresta(self)\n",
    "        self.__vDestino.adicionarAresta(self)\n",
    "        \n",
    "    def getvOrigem(self):\n",
    "        return self.__vOrigem\n",
    "    def getvDestino(self):\n",
    "        return self.__vDestino\n",
    "    def getValor(self):\n",
    "        return self.__peso"
   ]
  },
  {
   "cell_type": "code",
   "execution_count": 95,
   "id": "d3d8fa70",
   "metadata": {},
   "outputs": [],
   "source": [
    "from collections import deque\n",
    "class Grafo:\n",
    "    def __init__(self, direcionado=True):\n",
    "        self.__vertices = set()\n",
    "        self.__arestas  = set()\n",
    "        self.__direcionado = direcionado\n",
    "        \n",
    "    def setVertices(self, vertices):\n",
    "        self.__vertices = vertices\n",
    "        \n",
    "    def setArestas(self, arestas):\n",
    "        self.__arestas = arestas\n",
    "        \n",
    "    def getVertices(self):\n",
    "        return self.__vertices\n",
    "    \n",
    "    def getVerticeByValor(self, valor):\n",
    "        for v in self.__vertices:\n",
    "            if v.getValor() == valor:\n",
    "                return v\n",
    "        return None\n",
    "    \n",
    "    def getArestas(self):\n",
    "        return self.__arestas\n",
    "    \n",
    "    def checkHandShakingLemma(self):\n",
    "        somaGraus = 0\n",
    "        for v in self.getVertices():\n",
    "            somaGraus+= v.getGrau()\n",
    "        if somaGraus == len(self.getArestas())*2:\n",
    "            return True\n",
    "        else:\n",
    "            return False\n",
    "        \n",
    "    def dfs(self, graph, v, visitados=[]):\n",
    "        if v not in visitados: # se v nao foi visitado\n",
    "            visitados.append(v) # marca vertice como visitado\n",
    "        if len(v.getAdjacentes(v)) == 0: # vertice escolhido nao tem adjacentes\n",
    "            self.dfs(graph, next(iter(graph.getVertices())), visitados) # chamada recursiva pegando o proximo vertice do set\n",
    "        else: # vertice escolhido tem adjacentes\n",
    "            for adjacente in v.getAdjacentes(v): #percorre todos os adjacentes a ele\n",
    "                if adjacente not in visitados: # se um dos adjacentes nao foi visitado\n",
    "                    self.dfs(graph, adjacente, visitados) # chamada recursiva para cada adjacente\n",
    "        return visitados\n",
    "    \n",
    "    def bfs(self, v, visitados = [], fila = deque([])):\n",
    "        fila.append(v)  # adiciona o vertice v a fila\n",
    "        if v not in visitados:  # se vertice v nao esta em visitados\n",
    "            visitados.append(v)  # adiciona vertice v a visitados\n",
    "        while fila:  # enquanto houver vertices na fila\n",
    "            vertice = fila.popleft()  # tira vertice ja visitado da fila\n",
    "            if len(vertice.getArestasSaida()) == 0: # vertice escolhido nao tem adjacentes\n",
    "                self.bfs(next(iter(self.getVertices())), visitados, fila) # chamada recursiva pegando o proximo vertice do set   \n",
    "            else:\n",
    "                for adjacente in vertice.getAdjacentes(v): #percorre todos os adjacentes a ele\n",
    "                    if adjacente not in visitados: # se um dos adjacentes nao foi visitado\n",
    "                        visitados.append(adjacente)  # insere o adjacente em visitados\n",
    "                        self.bfs(adjacente, visitados, fila) # chamada recursiva pegando o proximo vertice do set\n",
    "        return visitados  # retorna a lista de visitados  \n",
    "    \n",
    "    def buscarPorValor(self, valor):\n",
    "        for v in self.bfs(next(iter(self.getVertices())), visitados = [], fila = deque([])):\n",
    "            if valor == v.getValor():\n",
    "                return valor\n",
    "        return None\n",
    "    \n",
    "    def eulerPath(self, lista = [], par = [], impar = []):\n",
    "        for v in self.getVertices():\n",
    "            lista.append(v.getGrau())\n",
    "            \n",
    "        for l in lista:\n",
    "            if l % 2 == 0:\n",
    "                par.append(l)\n",
    "            elif l % 2 == 1:\n",
    "                impar.append(l)\n",
    "                \n",
    "        if len(impar) == 2 or len(impar) == 0:\n",
    "            return \"é um caminho Euler.\"\n",
    "        else:\n",
    "            return \"não é um caminho Euler.\"\n",
    "        \n",
    "    def inserirVertices(self, v):\n",
    "        if self.buscarPorValor(v) != v:\n",
    "            self.__vertices.add(Vertice(v))\n",
    "            return True\n",
    "        else:\n",
    "            return False\n",
    "            \n",
    "            \n",
    "    def inserirAresta(self, vO, vD, peso = 1, direcionado = True):\n",
    "        verticeO = self.getVerticeByValor(vO)\n",
    "        verticeD = self.getVerticeByValor(vD)\n",
    "        if verticeO and verticeD is None:\n",
    "            raise Exception(\"Esse Vertice nao existe\")\n",
    "            return False\n",
    "        else:\n",
    "            self.__arestas.add(Aresta(verticeO, verticeD, peso, direcionado))\n",
    "            return True\n",
    "        \n",
    "        \n",
    "    def removerAresta(self, vO, vD, peso, direcionado = True):\n",
    "        verticeO = self.getVerticeByValor(vO)\n",
    "        verticeD = self.getVerticeByValor(vD)\n",
    "        if verticeO and verticeD != None:\n",
    "            for aresta in self.getArestas():\n",
    "                if verticeO == aresta.getvOrigem() and verticeD == aresta.getvDestino() and peso == aresta.getValor():\n",
    "                    self.__arestas.remove(aresta)\n",
    "                    return True\n",
    "                    \n",
    "        return False\n",
    "    \n",
    "    def removerVertice(self, valor):        \n",
    "        para_remover = self.getVerticeByValor(valor)\n",
    "        if para_remover == None:\n",
    "            pass\n",
    "        else:\n",
    "            self.getVertices().remove(para_remover)\n",
    "            \n",
    "            for aresta in self.getArestas():\n",
    "                peso = aresta.getValor()\n",
    "                vO = aresta.getvOrigem()\n",
    "                vD = aresta.getvDestino()\n",
    "                \n",
    "                if vO == para_remover or vD == para_remover:\n",
    "                    break\n",
    "            self.removerAresta(vO, vD, peso)\n",
    "            \n",
    "    def matriz(self):\n",
    "        \n",
    "        tamanho = len(self.getVertices())\n",
    "        mAux = [0] * tamanho\n",
    "        m = []\n",
    "        for c in range(0, len(mAux)):\n",
    "            m.append(mAux.copy())\n",
    "            \n",
    "        c = 0\n",
    "        for aresta in self.getArestas():\n",
    "            m[c][c] = aresta.getvOrigem().getValor()\n",
    "            m[c] = aresta.getvDestino().getValor()\n",
    "            c+=1\n",
    "            \n",
    "        return m\n",
    "                \n",
    "\n",
    "    def dijkstra(self, origem):\n",
    "        vMenorValor = Vertice.getMenorValor()\n",
    "        peso = {}\n",
    "        antecessor = {}\n",
    "        V = []        \n",
    "        for v_i in self.getVertices():\n",
    "            V.append(v_i) \n",
    "        for v in V:\n",
    "            peso[v] = 9999999999999 \n",
    "            antecessor[v] = 9999999999999 \n",
    "        peso[origem] = 0 \n",
    "        while V:        \n",
    "            V.remove(vMenorValor) \n",
    "            for e in self.getVertice(vMenorValor).getArestasSaida(): \n",
    "                pesoSomadoParaComparacao = peso[vMenorValor] + e.getPeso() \n",
    "                if pesoSomadoParaComparacao < peso[e.getVerticeDestino().getValor()]:\n",
    "                    peso[e.getVerticeDestino().getValor()] = pesoSomadoParaComparacao \n",
    "                    antecessor[e.getVerticeDestino().getValor()] = vMenorValor\n",
    "        return peso, antecessor\n",
    "                \n",
    "                \n",
    "    def prim(self):\n",
    "        vertices = []\n",
    "        \n",
    "        for v in self.getVertices():\n",
    "            vertices.append(v)\n",
    "            \n",
    "        arvore = []\n",
    "        \n",
    "        for valor in vertices:\n",
    "            menor = 0\n",
    "            for aresta in self.getVertice(valor).getArestasSaida():\n",
    "                if aresta:\n",
    "                    if aresta.getValor() < menor:\n",
    "                        menor = aresta.getValor()\n",
    "            for aresta in self.getVertice(valor).getArestasSaida():\n",
    "                if aresta and aresta.getValor() == menor:\n",
    "                    arvore.append( [valor, aresta.getValor(), aresta.getvDestino().getValor()] )\n",
    "        return arvore\n",
    "    \n",
    "    def kruskal(self):\n",
    "        arestas = []\n",
    "        arvore = []\n",
    "        \n",
    "        for v in self.getVertices():\n",
    "            \n",
    "            for a in self.getArestas():\n",
    "                peso_minimo = 0\n",
    "                if a.getValor() < peso_minimo:\n",
    "                    peso_minimo = a.getValor()\n",
    "                    \n",
    "                if a.getValor() > peso_minimo:\n",
    "                    arestas.append(a)\n",
    "                    \n",
    "            for aresta in arestas:\n",
    "                if aresta.getvDestino() and aresta.getvOrigem:\n",
    "                    arvore.append(aresta)\n",
    "                    \n",
    "        return arvore"
   ]
  },
  {
   "cell_type": "code",
   "execution_count": 96,
   "id": "91b986a7",
   "metadata": {},
   "outputs": [],
   "source": [
    "v1 = Vertice(1)\n",
    "v2 = Vertice(2)\n",
    "v3 = Vertice(3)\n",
    "v4 = Vertice(4)\n",
    "v5 = Vertice(5)\n",
    "a1 = Aresta( v1, v2, 10, True )\n",
    "a2 = Aresta( v2, v3, 20, True )\n",
    "a3 = Aresta( v3, v4, 30, True )\n",
    "a4 = Aresta( v4, v1, 40, True )\n",
    "a5 = Aresta( v4, v5, 50, True )"
   ]
  },
  {
   "cell_type": "code",
   "execution_count": 97,
   "id": "ce259c26",
   "metadata": {},
   "outputs": [],
   "source": [
    "G = Grafo()\n",
    "G.setVertices({v1, v2, v3, v4, v5})\n",
    "G.setArestas({a1, a2, a3, a4, a5})"
   ]
  },
  {
   "cell_type": "code",
   "execution_count": 98,
   "id": "1c2d3a62",
   "metadata": {},
   "outputs": [
    {
     "name": "stdout",
     "output_type": "stream",
     "text": [
      "5\t4\t1\t2\t3\t"
     ]
    }
   ],
   "source": [
    "for v in G.getVertices():\n",
    "    print(v.getValor(), end=\"\\t\")"
   ]
  },
  {
   "cell_type": "code",
   "execution_count": 99,
   "id": "28e99364",
   "metadata": {},
   "outputs": [
    {
     "name": "stdout",
     "output_type": "stream",
     "text": [
      "2 ---> 3\t4 ---> 5\t1 ---> 2\t3 ---> 4\t4 ---> 1\t"
     ]
    }
   ],
   "source": [
    "for a in G.getArestas():\n",
    "    print(a.getvOrigem().getValor(), end=\"\")\n",
    "    print(\" ---> \", end=\"\")\n",
    "    print(a.getvDestino().getValor(), end=\"\\t\")"
   ]
  },
  {
   "cell_type": "code",
   "execution_count": 100,
   "id": "6fd4c082",
   "metadata": {},
   "outputs": [
    {
     "data": {
      "text/plain": [
       "2"
      ]
     },
     "execution_count": 100,
     "metadata": {},
     "output_type": "execute_result"
    }
   ],
   "source": [
    "v1.getGrau()"
   ]
  },
  {
   "cell_type": "code",
   "execution_count": 101,
   "id": "cbfb2a5b",
   "metadata": {},
   "outputs": [
    {
     "data": {
      "text/plain": [
       "True"
      ]
     },
     "execution_count": 101,
     "metadata": {},
     "output_type": "execute_result"
    }
   ],
   "source": [
    "G.checkHandShakingLemma()"
   ]
  },
  {
   "cell_type": "markdown",
   "id": "f6297d84",
   "metadata": {},
   "source": [
    "#### Testando busca em profundidade"
   ]
  },
  {
   "cell_type": "code",
   "execution_count": 102,
   "id": "1de74052",
   "metadata": {},
   "outputs": [
    {
     "name": "stdout",
     "output_type": "stream",
     "text": [
      "Busca em profundidade, iniciando com o vértice 1:\n",
      "1\t2\t3\t4\t6\t5\t\n",
      ".................................................\n",
      "Busca em profundidade, iniciando com o vértice 5:\n",
      "5\t1\t2\t3\t4\t6\t\n",
      ".................................................\n",
      "Busca em profundidade, iniciando com o vértice 6:\n",
      "6\t1\t2\t3\t4\t5\t\n",
      ".................................................\n",
      "Busca em profundidade, iniciando com o vértice 4:\n",
      "4\t1\t2\t3\t6\t5\t\n",
      ".................................................\n",
      "Busca em profundidade, iniciando com o vértice 3:\n",
      "3\t4\t1\t2\t6\t5\t\n",
      ".................................................\n",
      "Busca em profundidade, iniciando com o vértice 2:\n",
      "2\t3\t4\t1\t6\t5\t\n",
      ".................................................\n"
     ]
    }
   ],
   "source": [
    "v1 = Vertice(1)\n",
    "v2 = Vertice(2)\n",
    "v3 = Vertice(3)\n",
    "v4 = Vertice(4)\n",
    "v5 = Vertice(5)\n",
    "v6 = Vertice(6)\n",
    "a1 = Aresta( v1, v2, 10, True )\n",
    "a2 = Aresta( v2, v3, 20, True )\n",
    "a3 = Aresta( v3, v4, 30, True )\n",
    "a4 = Aresta( v4, v1, 40, True )\n",
    "a5 = Aresta( v4, v5, 50, True ) \n",
    "a6 = Aresta( v4, v6, 60, True ) \n",
    "G = Grafo()\n",
    "G.setVertices({v1, v2, v3, v4, v5,v6})\n",
    "G.setArestas({a1, a2, a3, a4, a5, a6})\n",
    "for vertice in G.getVertices():\n",
    "    print(f\"Busca em profundidade, iniciando com o vértice {vertice.getValor()}:\")\n",
    "    for v in G.dfs(G, vertice, visitados=[]):\n",
    "        print(str(v.getValor())+\"\\t\", end=\"\")\n",
    "    print(\"\\n.................................................\")  "
   ]
  },
  {
   "cell_type": "code",
   "execution_count": null,
   "id": "447cd7a7",
   "metadata": {},
   "outputs": [],
   "source": []
  },
  {
   "cell_type": "code",
   "execution_count": 103,
   "id": "66660566",
   "metadata": {},
   "outputs": [
    {
     "data": {
      "text/plain": [
       "[]"
      ]
     },
     "execution_count": 103,
     "metadata": {},
     "output_type": "execute_result"
    }
   ],
   "source": [
    "#valor = int(input(\"Valor procurado: \"))\n",
    "#if G.buscarPorValor(valor) == None:\n",
    "#    print(f\"{valor} não encontrado no grafo\")\n",
    "#else:\n",
    "#    print(f\"{valor} encontrado no grafo\")\n",
    "[print(f\"{v.getValor()} encontrado no grafo.\") for v in  G.bfs(v1, visitados = [], fila = deque([])) if v == v.getValor() ]"
   ]
  },
  {
   "cell_type": "code",
   "execution_count": 104,
   "id": "53395fbd",
   "metadata": {},
   "outputs": [
    {
     "name": "stdout",
     "output_type": "stream",
     "text": [
      "é um caminho Euler.\n"
     ]
    }
   ],
   "source": [
    "print(G.eulerPath())"
   ]
  },
  {
   "cell_type": "code",
   "execution_count": 105,
   "id": "a91f3880",
   "metadata": {},
   "outputs": [
    {
     "name": "stdout",
     "output_type": "stream",
     "text": [
      "True\n"
     ]
    }
   ],
   "source": [
    "print(G.inserirVertices(20))"
   ]
  },
  {
   "cell_type": "code",
   "execution_count": 106,
   "id": "f006ba22",
   "metadata": {},
   "outputs": [
    {
     "name": "stdout",
     "output_type": "stream",
     "text": [
      "True\n"
     ]
    }
   ],
   "source": [
    "print(G.inserirVertices(90))"
   ]
  },
  {
   "cell_type": "code",
   "execution_count": 107,
   "id": "f0ff92f6",
   "metadata": {},
   "outputs": [
    {
     "data": {
      "text/plain": [
       "True"
      ]
     },
     "execution_count": 107,
     "metadata": {},
     "output_type": "execute_result"
    }
   ],
   "source": [
    "G.inserirAresta(20, 90)"
   ]
  },
  {
   "cell_type": "code",
   "execution_count": 108,
   "id": "d2b223a3",
   "metadata": {},
   "outputs": [],
   "source": [
    "#G.removerAresta(1, 2, 1)"
   ]
  },
  {
   "cell_type": "code",
   "execution_count": 109,
   "id": "4d512ea8",
   "metadata": {},
   "outputs": [],
   "source": [
    "G.removerVertice(90)"
   ]
  },
  {
   "cell_type": "code",
   "execution_count": 110,
   "id": "ac807ce6",
   "metadata": {},
   "outputs": [
    {
     "name": "stdout",
     "output_type": "stream",
     "text": [
      "1\n",
      "5\n",
      "6\n",
      "4\n",
      "3\n",
      "2\n",
      "20\n"
     ]
    }
   ],
   "source": [
    "for v in G.getVertices():\n",
    "    print(v.getValor())"
   ]
  },
  {
   "cell_type": "code",
   "execution_count": 111,
   "id": "15767c58",
   "metadata": {},
   "outputs": [
    {
     "name": "stdout",
     "output_type": "stream",
     "text": [
      "30\n",
      "50\n",
      "40\n",
      "60\n",
      "1\n",
      "20\n",
      "10\n"
     ]
    }
   ],
   "source": [
    "for a in G.getArestas():\n",
    "    print(a.getValor())"
   ]
  },
  {
   "cell_type": "code",
   "execution_count": 112,
   "id": "f7d2f18a",
   "metadata": {
    "scrolled": true
   },
   "outputs": [
    {
     "data": {
      "text/plain": [
       "[4, 5, 1, 6, 90, 3, 2]"
      ]
     },
     "execution_count": 112,
     "metadata": {},
     "output_type": "execute_result"
    }
   ],
   "source": [
    "G.matriz()"
   ]
  },
  {
   "cell_type": "code",
   "execution_count": 113,
   "id": "2e440792",
   "metadata": {},
   "outputs": [
    {
     "ename": "TypeError",
     "evalue": "getMenorValor() missing 1 required positional argument: 'self'",
     "output_type": "error",
     "traceback": [
      "\u001b[1;31m---------------------------------------------------------------------------\u001b[0m",
      "\u001b[1;31mTypeError\u001b[0m                                 Traceback (most recent call last)",
      "\u001b[1;32m<ipython-input-113-0448cf9c94e1>\u001b[0m in \u001b[0;36m<module>\u001b[1;34m\u001b[0m\n\u001b[1;32m----> 1\u001b[1;33m \u001b[0mprint\u001b[0m\u001b[1;33m(\u001b[0m\u001b[0mG\u001b[0m\u001b[1;33m.\u001b[0m\u001b[0mdijkstra\u001b[0m\u001b[1;33m(\u001b[0m\u001b[1;36m3\u001b[0m\u001b[1;33m)\u001b[0m\u001b[1;33m)\u001b[0m\u001b[1;33m\u001b[0m\u001b[1;33m\u001b[0m\u001b[0m\n\u001b[0m",
      "\u001b[1;32m<ipython-input-95-0af0b4abe4b4>\u001b[0m in \u001b[0;36mdijkstra\u001b[1;34m(self, origem)\u001b[0m\n\u001b[0;32m    144\u001b[0m \u001b[1;33m\u001b[0m\u001b[0m\n\u001b[0;32m    145\u001b[0m     \u001b[1;32mdef\u001b[0m \u001b[0mdijkstra\u001b[0m\u001b[1;33m(\u001b[0m\u001b[0mself\u001b[0m\u001b[1;33m,\u001b[0m \u001b[0morigem\u001b[0m\u001b[1;33m)\u001b[0m\u001b[1;33m:\u001b[0m\u001b[1;33m\u001b[0m\u001b[1;33m\u001b[0m\u001b[0m\n\u001b[1;32m--> 146\u001b[1;33m         \u001b[0mvMenorValor\u001b[0m \u001b[1;33m=\u001b[0m \u001b[0mVertice\u001b[0m\u001b[1;33m.\u001b[0m\u001b[0mgetMenorValor\u001b[0m\u001b[1;33m(\u001b[0m\u001b[1;33m)\u001b[0m\u001b[1;33m\u001b[0m\u001b[1;33m\u001b[0m\u001b[0m\n\u001b[0m\u001b[0;32m    147\u001b[0m         \u001b[0mpeso\u001b[0m \u001b[1;33m=\u001b[0m \u001b[1;33m{\u001b[0m\u001b[1;33m}\u001b[0m\u001b[1;33m\u001b[0m\u001b[1;33m\u001b[0m\u001b[0m\n\u001b[0;32m    148\u001b[0m         \u001b[0mantecessor\u001b[0m \u001b[1;33m=\u001b[0m \u001b[1;33m{\u001b[0m\u001b[1;33m}\u001b[0m\u001b[1;33m\u001b[0m\u001b[1;33m\u001b[0m\u001b[0m\n",
      "\u001b[1;31mTypeError\u001b[0m: getMenorValor() missing 1 required positional argument: 'self'"
     ]
    }
   ],
   "source": [
    "print(G.dijkstra(3))"
   ]
  },
  {
   "cell_type": "code",
   "execution_count": null,
   "id": "a12ecfe3",
   "metadata": {},
   "outputs": [],
   "source": []
  }
 ],
 "metadata": {
  "kernelspec": {
   "display_name": "Python 3 (ipykernel)",
   "language": "python",
   "name": "python3"
  },
  "language_info": {
   "codemirror_mode": {
    "name": "ipython",
    "version": 3
   },
   "file_extension": ".py",
   "mimetype": "text/x-python",
   "name": "python",
   "nbconvert_exporter": "python",
   "pygments_lexer": "ipython3",
   "version": "3.8.5"
  },
  "vscode": {
   "interpreter": {
    "hash": "cc5cba346e7b9ccbf58e869e864d0898b9b38124182b75f0f4be2245b076e2b0"
   }
  }
 },
 "nbformat": 4,
 "nbformat_minor": 5
}
