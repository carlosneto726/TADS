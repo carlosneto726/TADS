{
  "nbformat": 4,
  "nbformat_minor": 0,
  "metadata": {
    "colab": {
      "provenance": []
    },
    "kernelspec": {
      "name": "python3",
      "display_name": "Python 3"
    },
    "language_info": {
      "name": "python"
    }
  },
  "cells": [
    {
      "cell_type": "markdown",
      "metadata": {
        "id": "EVFbPaCvODmY"
      },
      "source": [
        "Pilhas"
      ]
    },
    {
      "cell_type": "code",
      "metadata": {
        "id": "BsQMPWtdN8qO",
        "outputId": "b99a7fb7-ff6b-479e-f8e0-93c9c390b7a6",
        "colab": {
          "base_uri": "https://localhost:8080/"
        }
      },
      "source": [
        "print(\"Em um posto de coleta de lixo, é bastantante comum empilhar caixas de lixo reciclável\")\n",
        "print(\"Até que alguém recolha a caixa de lixo que foi colocada por ultimo.\")\n",
        "\n",
        "pilha_de_lixo = []\n",
        "print(pilha_de_lixo)\n",
        "\n",
        "pilha_de_lixo.append(\"Orgânico\")\n",
        "print(pilha_de_lixo)\n",
        "\n",
        "pilha_de_lixo.append(\"Plástico\")\n",
        "print(pilha_de_lixo)\n",
        "\n",
        "pilha_de_lixo.append(\"Metal\")\n",
        "print(pilha_de_lixo)\n",
        "\n",
        "pilha_de_lixo.append(\"Vidro\")\n",
        "print(pilha_de_lixo)\n",
        "\n",
        "pilha_de_lixo.append(\"Papel\")\n",
        "print(pilha_de_lixo)\n",
        "\n",
        "pilha_de_lixo.pop()\n",
        "print(pilha_de_lixo)\n",
        "\n",
        "pilha_de_lixo.pop()\n",
        "print(pilha_de_lixo)\n",
        "\n",
        "pilha_de_lixo.pop()\n",
        "print(pilha_de_lixo)\n",
        "\n",
        "pilha_de_lixo.pop()\n",
        "print(pilha_de_lixo)\n",
        "\n",
        "pilha_de_lixo.pop()\n",
        "print(pilha_de_lixo)\n"
      ],
      "execution_count": 1,
      "outputs": [
        {
          "output_type": "stream",
          "name": "stdout",
          "text": [
            "Em um posto de coleta de lixo, é bastantante comum empilhar caixas de lixo reciclável\n",
            "Até que alguém recolha a caixa de lixo que foi colocada por ultimo.\n",
            "[]\n",
            "['Orgânico']\n",
            "['Orgânico', 'Plástico']\n",
            "['Orgânico', 'Plástico', 'Metal']\n",
            "['Orgânico', 'Plástico', 'Metal', 'Vidro']\n",
            "['Orgânico', 'Plástico', 'Metal', 'Vidro', 'Papel']\n",
            "['Orgânico', 'Plástico', 'Metal', 'Vidro']\n",
            "['Orgânico', 'Plástico', 'Metal']\n",
            "['Orgânico', 'Plástico']\n",
            "['Orgânico']\n",
            "[]\n"
          ]
        }
      ]
    }
  ]
}