{
  "nbformat": 4,
  "nbformat_minor": 0,
  "metadata": {
    "colab": {
      "provenance": []
    },
    "kernelspec": {
      "name": "python3",
      "display_name": "Python 3"
    },
    "language_info": {
      "name": "python"
    }
  },
  "cells": [
    {
      "cell_type": "markdown",
      "metadata": {
        "id": "ODMw3OogBrlb"
      },
      "source": [
        "QuickSort só com o pivot aleatório"
      ]
    },
    {
      "cell_type": "code",
      "metadata": {
        "colab": {
          "base_uri": "https://localhost:8080/"
        },
        "id": "kCq6H-V7BYno",
        "outputId": "dc45e2ee-8819-4d57-8efb-2f50eef47cd1"
      },
      "source": [
        "import random\n",
        "\n",
        "def quicksort(lista):\n",
        "    quicksort_aux(lista, 0, len(lista)-1)\n",
        "\n",
        "def quicksort_aux(lista, menor, maior):\n",
        "    if menor < maior:\n",
        "        p = particao(lista, menor, maior)\n",
        "        quicksort_aux(lista, menor, p)\n",
        "        quicksort_aux(lista, p + 1, maior)\n",
        "\n",
        "def particao(lista, menor, maior):\n",
        "    pivot = lista[random.randint(0, len(lista) - 1)]\n",
        "    i, j = menor-1, maior+1\n",
        "    while True:\n",
        "        i += 1\n",
        "        j -= 1\n",
        "        while(lista[i] < pivot): i+= 1\n",
        "        while(lista[j] > pivot ): j-= 1\n",
        "        if i >= j: \n",
        "            return j\n",
        "        lista[i], lista[j] = lista[j], lista[i]\n",
        "\n",
        "lista = [5,4,3,2,1]\n",
        "\n",
        "print(f\"Ordem Original:\\n {lista}\")\n",
        "quicksort(lista)\n",
        "print(f\"Ordem Ordenada:\\n {lista}\")\n"
      ],
      "execution_count": null,
      "outputs": [
        {
          "output_type": "stream",
          "name": "stdout",
          "text": [
            "Ordem Original:\n",
            " [5, 4, 3, 2, 1]\n",
            "Ordem Ordenada:\n",
            " [1, 2, 3, 4, 5]\n"
          ]
        }
      ]
    },
    {
      "cell_type": "markdown",
      "metadata": {
        "id": "6iG3RQzlBrWv"
      },
      "source": [
        "QuickSort com o pivot e a lista aleatórios"
      ]
    },
    {
      "cell_type": "code",
      "metadata": {
        "colab": {
          "base_uri": "https://localhost:8080/"
        },
        "id": "ZVEYCC1zBpK7",
        "outputId": "654d1754-a7e2-4874-e8b9-92d3542f0a8d"
      },
      "source": [
        "import random\n",
        "\n",
        "def quicksort(lista):\n",
        "    quicksort_aux(lista, 0, len(lista)-1)\n",
        "\n",
        "def quicksort_aux(lista, menor, maior):\n",
        "    if menor < maior:\n",
        "        p = particao(lista, menor, maior)\n",
        "        quicksort_aux(lista, menor, p)\n",
        "        quicksort_aux(lista, p + 1, maior)\n",
        "\n",
        "def particao(lista, menor, maior):\n",
        "    pivot = lista[random.randint(0, len(lista) - 1)]\n",
        "    i, j = menor-1, maior+1\n",
        "    while True:\n",
        "        i += 1\n",
        "        j -= 1\n",
        "        while(lista[i] < pivot): i+= 1\n",
        "        while(lista[j] > pivot ): j-= 1\n",
        "        if i >= j: \n",
        "            return j\n",
        "        lista[i], lista[j] = lista[j], lista[i]\n",
        "\n",
        "lista = []\n",
        "\n",
        "print(\"Digite vários números ou digite alguma letra para parar.\")\n",
        "while True:\n",
        "    try:\n",
        "        val = int(input())\n",
        "        lista.append(val)\n",
        "    except ValueError:\n",
        "        break\n",
        "\n",
        "\n",
        "print(f\"Ordem Digitada:\\n {lista}\")\n",
        "quicksort(lista)\n",
        "print(f\"Ordem Ordenada do menor para o maior:\\n {lista}\")"
      ],
      "execution_count": null,
      "outputs": [
        {
          "output_type": "stream",
          "name": "stdout",
          "text": [
            "Digite vários números ou digite alguma letra para parar.\n",
            "12\n",
            "14\n",
            "1\n",
            "98\n",
            "65\n",
            "9\n",
            "178\n",
            "726\n",
            "0\n",
            "a\n",
            "Ordem Digitada:\n",
            " [12, 14, 1, 98, 65, 9, 178, 726, 0]\n",
            "Ordem Ordenada do menor para o maior:\n",
            " [0, 1, 9, 12, 14, 65, 98, 178, 726]\n"
          ]
        }
      ]
    }
  ]
}