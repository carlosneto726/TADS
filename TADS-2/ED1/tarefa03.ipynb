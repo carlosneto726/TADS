{
  "nbformat": 4,
  "nbformat_minor": 0,
  "metadata": {
    "colab": {
      "provenance": []
    },
    "kernelspec": {
      "name": "python3",
      "display_name": "Python 3"
    },
    "language_info": {
      "name": "python"
    }
  },
  "cells": [
    {
      "cell_type": "code",
      "metadata": {
        "colab": {
          "base_uri": "https://localhost:8080/",
          "height": 291
        },
        "id": "WnD-VfXe8P2j",
        "outputId": "d0e70626-2ef0-467d-eeb1-6061fa031cf8"
      },
      "source": [
        "import time\n",
        "import random\n",
        "import matplotlib.pyplot as plt\n",
        "\n",
        "tempo = []\n",
        "# metedo BubbleSort\n",
        "def bubbleSort(lista):\n",
        "    t = 0\n",
        "    for num in range(len(lista)-1, 0, -1):\n",
        "        inicio = time.time()\n",
        "        for i in range(num):\n",
        "            if lista[i] > lista[i+1]:\n",
        "                aux = lista[i]\n",
        "                lista[i] = lista[i+1]\n",
        "                lista[i+1] = aux\n",
        "        fim = time.time() - inicio\n",
        "        t += fim\n",
        "    tempo.append(t)\n",
        "\n",
        "\n",
        "aleatorio = [[], [], [], []]\n",
        "crescente = [[], [], [], []]\n",
        "decrescente = [[], [], [], []]\n",
        "\n",
        "# gerando os vetores\n",
        "\n",
        "for ale in range(0, 100000):\n",
        "    if ale <= 100:\n",
        "        aleatorio[0].append(random.randint(0, 100))\n",
        "    if ale <= 1000:\n",
        "        aleatorio[1].append(random.randint(0, 1000))\n",
        "    if ale <= 10000:\n",
        "        aleatorio[2].append(random.randint(0, 10000))\n",
        "    if ale <= 100000:\n",
        "        aleatorio[3].append(random.randint(0, 100000))\n",
        "\n",
        "for cres in range(0, 100000):\n",
        "    if cres <= 100:\n",
        "        crescente[0].append(crescente)\n",
        "    if cres <= 1000:\n",
        "        crescente[1].append(crescente)\n",
        "    if cres <= 10000:\n",
        "        crescente[2].append(crescente)\n",
        "    if cres <= 100000:\n",
        "        crescente[3].append(crescente)\n",
        "\n",
        "for decre in range(100000, 0, -1):\n",
        "    if decre <= 100:\n",
        "        decrescente[0].append(decrescente)\n",
        "    if decre <= 1000:\n",
        "        decrescente[1].append(decrescente)\n",
        "    if decre <= 10000:\n",
        "        decrescente[2].append(decrescente)\n",
        "    if decre <= 100000:\n",
        "        decrescente[3].append(decrescente)\n",
        "\n",
        "# criando o grafico e chamando a função\n",
        "ordem  = [100, 1000, 10000, 100000]\n",
        "\n",
        "bubbleSort(aleatorio[0])\n",
        "bubbleSort(aleatorio[1])\n",
        "bubbleSort(aleatorio[2])\n",
        "bubbleSort(aleatorio[3])\n",
        "\n",
        "\n",
        "plt.plot(ordem ,tempo, label = \"aleatorio\")\n",
        "tempo = []\n",
        "\n",
        "bubbleSort(crescente[0])\n",
        "bubbleSort(crescente[1])\n",
        "bubbleSort(crescente[2])\n",
        "bubbleSort(crescente[3])\n",
        "\n",
        "\n",
        "plt.plot(ordem ,tempo, label = \"crescente\")\n",
        "tempo = []\n",
        "\n",
        "bubbleSort(decrescente[0])\n",
        "bubbleSort(decrescente[1])\n",
        "bubbleSort(decrescente[2])\n",
        "bubbleSort(decrescente[3])\n",
        "\n",
        "\n",
        "plt.plot(ordem ,tempo, label = \"decrescente\")\n",
        "plt.legend()\n",
        "plt.title(\"Tempo de execução para BubbleSort\")\n",
        "plt.xlabel(\"Quantidade de números\")\n",
        "plt.ylabel(\"Tempo (s)\")\n",
        "plt.gcf().autofmt_xdate()\n",
        "plt.show()\n"
      ],
      "execution_count": null,
      "outputs": [
        {
          "output_type": "display_data",
          "data": {
            "image/png": "[encoded data removed]",
            "text/plain": [
              "<Figure size 432x288 with 1 Axes>"
            ]
          },
          "metadata": {
            "needs_background": "light"
          }
        }
      ]
    },
    {
      "cell_type": "markdown",
      "metadata": {
        "id": "wDfiF2SjOprG"
      },
      "source": [
        "A reta crescente está em baixo da decrescente"
      ]
    }
  ]
}